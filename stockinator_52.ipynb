{
 "cells": [
  {
   "cell_type": "code",
   "execution_count": 1,
   "metadata": {},
   "outputs": [],
   "source": [
    "import pandas as pd\n",
    "import yfinance as yf\n",
    "import requests\n",
    "from concurrent.futures import ThreadPoolExecutor\n"
   ]
  },
  {
   "cell_type": "code",
   "execution_count": 4,
   "metadata": {},
   "outputs": [],
   "source": [
    "urls = {\n",
    "    'nasdaq': 'https://old.nasdaq.com/screening/companies-by-name.aspx?letter=0&exchange=nasdaq&render=download',\n",
    "    'nyse': 'https://old.nasdaq.com/screening/companies-by-name.aspx?letter=0&exchange=nyse&render=download',\n",
    "}\n",
    "\n",
    "def get_stocks(stock):\n",
    "    try:\n",
    "        s = yf.Ticker(stock)\n",
    "        i = s.info\n",
    "        if (i['regularMarketPrice'] > 20 and \n",
    "                i['regularMarketPrice'] > i['fiftyDayAverage'] and \n",
    "                i['fiftyDayAverage'] > i['twoHundredDayAverage'] and\n",
    "                (i['regularMarketPrice']/i['fiftyTwoWeekHigh'])*100 > 80):\n",
    "            return i\n",
    "    except:\n",
    "        return None"
   ]
  },
  {
   "cell_type": "code",
   "execution_count": 5,
   "metadata": {},
   "outputs": [],
   "source": [
    "# Get an array of stock tickers from URLs\n",
    "tickers = []\n",
    "for exchange, url in urls.items():\n",
    "    resp = requests.get(url)\n",
    "    lines = resp.text.split(',\\r\\n')\n",
    "    lines.pop(0)\n",
    "\n",
    "    for line in lines:\n",
    "        l = line.replace('\"', '').split(',')\n",
    "        tickers.append(l[0].strip())\n"
   ]
  },
  {
   "cell_type": "code",
   "execution_count": 6,
   "metadata": {},
   "outputs": [
    {
     "output_type": "stream",
     "name": "stdout",
     "text": "Getting ticker: TXGGetting ticker: YI\n\nGetting ticker: PIHGetting ticker: PIHPP\nGetting ticker: TURNGetting ticker: FLWS\nGetting ticker: BCOW\n\n\nGetting ticker: ONEM\nGetting ticker: FCCY\nGetting ticker: SRCE\nGetting ticker: VNET\nGetting ticker: TWOUGetting ticker: QFIN\n\nGetting ticker: KRKR\nGetting ticker: JOBS\nGetting ticker: ETNB\nGetting ticker: JFKGetting ticker: JFKKR\nGetting ticker: JFKKU\n\nGetting ticker: JFKKW\nGetting ticker: EGHT\nGetting ticker: NMTRGetting ticker: JFU\n\nGetting ticker: AAON\nGetting ticker: ABEO\nGetting ticker: ABMD\nGetting ticker: AXAS\nGetting ticker: ACIU\nGetting ticker: ACIA\nGetting ticker: ACTG\nGetting ticker: ACHC\nGetting ticker: ACAD\nGetting ticker: ACAM\nGetting ticker: ACAMU\nGetting ticker: ACAMW\nGetting ticker: ACSTGetting ticker: AXDX\nGetting ticker: ACCP\nGetting ticker: XLRN\n\nGetting ticker: ARAY\nGetting ticker: ACRX\nGetting ticker: ACER\nGetting ticker: ACHV\nGetting ticker: ACIWGetting ticker: ACRS\n\nGetting ticker: ACMR\nGetting ticker: ACNB\nGetting ticker: ACOR\nGetting ticker: ACTT\nGetting ticker: ACTTU\nGetting ticker: ACTTW\nGetting ticker: ATVI\nGetting ticker: ADMS\nGetting ticker: ADMP\nGetting ticker: AHCO\nGetting ticker: ADAPGetting ticker: ADPT\n\nGetting ticker: ADXN\nGetting ticker: ADUS\nGetting ticker: AEYGetting ticker: IOTS\n\nGetting ticker: ADIL\nGetting ticker: ADILW\nGetting ticker: ADMA\nGetting ticker: ADBE\nGetting ticker: ADTN\nGetting ticker: ADROGetting ticker: ADES\nGetting ticker: AEIS\nGetting ticker: AMD\n\nGetting ticker: ADXSGetting ticker: ADVM\n\nGetting ticker: DWEQ\nGetting ticker: DWAW\nGetting ticker: DWUSGetting ticker: DWMC\n\nGetting ticker: DWSHGetting ticker: ACT\n\nGetting ticker: AEGN\nGetting ticker: AGLE\nGetting ticker: AEHR\nGetting ticker: AMTX\nGetting ticker: AERI\nGetting ticker: AVAV\nGetting ticker: ARPOGetting ticker: AIH\n\nGetting ticker: AEZSGetting ticker: AEMD\n\nGetting ticker: AFMDGetting ticker: AFYA\nGetting ticker: AGBA\n\nGetting ticker: AGBAR\nGetting ticker: AGBAU\nGetting ticker: AGBAW\nGetting ticker: AGEN\nGetting ticker: AGRX\nGetting ticker: AGYS\nGetting ticker: AGIO\nGetting ticker: AGMH\nGetting ticker: AGNC\nGetting ticker: AGNCM\nGetting ticker: AGNCN\nGetting ticker: AGNCO\nGetting ticker: AGNCP\nGetting ticker: AGFS\nGetting ticker: AGFSW\nGetting ticker: AIKI\nGetting ticker: ALRN\nGetting ticker: AIMT\nGetting ticker: AIRTGetting ticker: AIRTP\n\nGetting ticker: AIRTW\nGetting ticker: ATSG\nGetting ticker: AIRG\nGetting ticker: ANTE\nGetting ticker: AKAM\nGetting ticker: AKTX\nGetting ticker: SONG\nGetting ticker: SONGW\nGetting ticker: AKCA\nGetting ticker: AKBAGetting ticker: KERN\n\nGetting ticker: KERNW\nGetting ticker: AKRO\nGetting ticker: AKER\nGetting ticker: AKRX\nGetting ticker: AKTS\nGetting ticker: ALRM\nGetting ticker: ALSK\nGetting ticker: ALAC\nGetting ticker: ALACR\nGetting ticker: ALACU\nGetting ticker: ALACW\nGetting ticker: ALBOGetting ticker: ALDXGetting ticker: ALEC\n\n\nGetting ticker: ALRS\nGetting ticker: ALXN\nGetting ticker: ALCO\nGetting ticker: ALIT\nGetting ticker: ALGN\nGetting ticker: ALIM\nGetting ticker: ALYA\nGetting ticker: ALJJ\nGetting ticker: ALKS\nGetting ticker: ALLK\nGetting ticker: ABTX\nGetting ticker: ALGT\nGetting ticker: ALNA\nGetting ticker: ARLP\nGetting ticker: LNT\nGetting ticker: AESE\nGetting ticker: AHPI\nGetting ticker: AMOT\nGetting ticker: ALLO\nGetting ticker: ALLT\nGetting ticker: MDRX\nGetting ticker: ALNY\nGetting ticker: AOSL\nGetting ticker: GOOG\nGetting ticker: GOOGL\nGetting ticker: SMCP\nGetting ticker: ATEC\nGetting ticker: ALPN\nGetting ticker: ALTR\nGetting ticker: ATHE\nGetting ticker: ALTGetting ticker: ASPS\n\nGetting ticker: AIMC\nGetting ticker: ALTM\nGetting ticker: AMAG\nGetting ticker: AMAL\nGetting ticker: AMRN\nGetting ticker: AMRKGetting ticker: AMZN\nGetting ticker: AMBC\n\nGetting ticker: AMBA\nGetting ticker: AMCX\nGetting ticker: AMCI\nGetting ticker: AMCIUGetting ticker: AMCIW\n\nGetting ticker: DOX\nGetting ticker: AMED\nGetting ticker: AMTB\nGetting ticker: AMTBB\nGetting ticker: UHAL\nGetting ticker: AMRH\nGetting ticker: AMRHW\nGetting ticker: ATAX\nGetting ticker: AMOV\nGetting ticker: AAL\nGetting ticker: AFIN\nGetting ticker: AFINP\nGetting ticker: AMNB\nGetting ticker: ANAT\nGetting ticker: AOBC\nGetting ticker: APEI\nGetting ticker: AREC\nGetting ticker: AMRB\nGetting ticker: AMSWA\nGetting ticker: AMSC\nGetting ticker: AVCT\nGetting ticker: AVCTW\nGetting ticker: AMWD\nGetting ticker: CRMT\nGetting ticker: ABCB\nGetting ticker: AMSF\nGetting ticker: ASRV\nGetting ticker: ASRVP\nGetting ticker: ATLO\nGetting ticker: AMGN\nGetting ticker: FOLD\nGetting ticker: AMKR\nGetting ticker: AMPH\nGetting ticker: IBUY\nGetting ticker: AMHC\nGetting ticker: AMHCU\nGetting ticker: AMHCW\nGetting ticker: ASYS\nGetting ticker: AMRS\nGetting ticker: ADI\nGetting ticker: ANAB\nGetting ticker: AVXL\nGetting ticker: ANCNGetting ticker: ANDA\nGetting ticker: ANDAR\n\nGetting ticker: ANDAU\nGetting ticker: ANDAW\nGetting ticker: ANGI\nGetting ticker: ANGO\nGetting ticker: ANIP\nGetting ticker: ANIK\nGetting ticker: ANIX\nGetting ticker: ANPC\nGetting ticker: ANSS\nGetting ticker: ATRS\nGetting ticker: ATEX\nGetting ticker: APLS\nGetting ticker: APEX\nGetting ticker: APXT\nGetting ticker: APXTU\nGetting ticker: APXTW\nGetting ticker: APOG\nGetting ticker: APEN\nGetting ticker: AINV\nGetting ticker: AMEH\nGetting ticker: APPF\nGetting ticker: APPN\nGetting ticker: AAPL\nGetting ticker: APDN\nGetting ticker: AGTC\nGetting ticker: AMAT\nGetting ticker: AAOI\nGetting ticker: APLT\nGetting ticker: APRE\nGetting ticker: APVOGetting ticker: APTX\n\nGetting ticker: APM\nGetting ticker: APTO\nGetting ticker: APYX\nGetting ticker: AQMS\nGetting ticker: AQB\nGetting ticker: AQST\nGetting ticker: ARAVGetting ticker: ABUS\n\nGetting ticker: ABIO\nGetting ticker: RKDA\nGetting ticker: ARCB\nGetting ticker: ACGL\nGetting ticker: ACGLO\nGetting ticker: ACGLP\nGetting ticker: FUVGetting ticker: ARCEGetting ticker: ARCT\n\n\nGetting ticker: ARQT\nGetting ticker: ARDX\nGetting ticker: ARNA\nGetting ticker: ARCC\nGetting ticker: ARGX\nGetting ticker: ARDS\nGetting ticker: ARKR\nGetting ticker: DWCR\nGetting ticker: DWAT\nGetting ticker: AROW\nGetting ticker: ARWR\nGetting ticker: TARA\nGetting ticker: ARTL\nGetting ticker: ARTLW\nGetting ticker: ARTNA\nGetting ticker: ARTW\nGetting ticker: ARVN\nGetting ticker: ARYA\nGetting ticker: ARYAU\nGetting ticker: ARYAW\nGetting ticker: ASNA\nGetting ticker: ASND\nGetting ticker: APWC\nGetting ticker: ASLN\nGetting ticker: ASML\nGetting ticker: ASPU\nGetting ticker: AZPN\nGetting ticker: ASMB\nGetting ticker: ASRT\nGetting ticker: ASFI\nGetting ticker: ASTE\nGetting ticker: ATRO\nGetting ticker: ALOT\nGetting ticker: ASTC\nGetting ticker: ASUR\nGetting ticker: AACG\nGetting ticker: ATRA\nGetting ticker: ATNX\nGetting ticker: ATHX\nGetting ticker: ATIF\nGetting ticker: AAME\nGetting ticker: ACBI\nGetting ticker: AUB\nGetting ticker: AY\nGetting ticker: ATLC\nGetting ticker: AAWW\nGetting ticker: AFH\nGetting ticker: ATCX\nGetting ticker: ATCXW\nGetting ticker: TEAM\nGetting ticker: ATNI\nGetting ticker: ATOM\nGetting ticker: ATOS\nGetting ticker: BCEL\nGetting ticker: ATRC\nGetting ticker: ATRI\nGetting ticker: LIFEGetting ticker: AUBN\n\nGetting ticker: AUDC\nGetting ticker: AEYE\nGetting ticker: AUPH\nGetting ticker: EARS\nGetting ticker: JG\nGetting ticker: ADSK\nGetting ticker: AUTL\nGetting ticker: ADP\nGetting ticker: AUTO\nGetting ticker: AVDL\nGetting ticker: AHI\nGetting ticker: AVCO\nGetting ticker: ATXI\nGetting ticker: AVEO\nGetting ticker: AVNW\nGetting ticker: CDMO\nGetting ticker: CDMOP\nGetting ticker: AVID\nGetting ticker: AVGR\nGetting ticker: CAR\nGetting ticker: RCEL\nGetting ticker: AVT\nGetting ticker: AVRO\nGetting ticker: AWRE\nGetting ticker: ACLS\nGetting ticker: AXLA\nGetting ticker: AXGNGetting ticker: AAXN\n\nGetting ticker: AXNX\nGetting ticker: AXGT\nGetting ticker: AXSM\nGetting ticker: AXTI\nGetting ticker: AYTU\nGetting ticker: AZRX\nGetting ticker: BCOM\nGetting ticker: RILY\nGetting ticker: RILYG\nGetting ticker: RILYH\nGetting ticker: RILYI\nGetting ticker: RILYM\nGetting ticker: RILYN\nGetting ticker: RILYO\nGetting ticker: RILYP\nGetting ticker: RILYZ\nGetting ticker: BOSC\nGetting ticker: BIDU\nGetting ticker: BCPC\nGetting ticker: BLDP\nGetting ticker: BANF\nGetting ticker: BANFP\nGetting ticker: BCTF\nGetting ticker: BAND\nGetting ticker: BFC\nGetting ticker: BOCH\nGetting ticker: BMRC\nGetting ticker: BMLP\nGetting ticker: BKSC\nGetting ticker: BOTJ\nGetting ticker: OZK\nGetting ticker: BSVN\nGetting ticker: BFIN\nGetting ticker: BWFG\nGetting ticker: BANR\nGetting ticker: BZUN\nGetting ticker: DFVL\nGetting ticker: DFVS\nGetting ticker: DTUL\nGetting ticker: DTUS\nGetting ticker: DTYL\nGetting ticker: FLAT\nGetting ticker: STPP\nGetting ticker: TAPR\nGetting ticker: BBSI\nGetting ticker: GOLD\nGetting ticker: BSET\nGetting ticker: ZTEST\nGetting ticker: BXRX\nGetting ticker: BCML\nGetting ticker: BBQ\nGetting ticker: BCBP\nGetting ticker: BECN\nGetting ticker: BEAM\nGetting ticker: BBGI\nGetting ticker: BBBY\nGetting ticker: BGNE\nGetting ticker: BELFA\nGetting ticker: BELFB\nGetting ticker: BLPH\nGetting ticker: BLCM\nGetting ticker: BLU\nGetting ticker: BNFT\nGetting ticker: BFYT\nGetting ticker: BNTC\nGetting ticker: BRY\nGetting ticker: BWMX\nGetting ticker: XAIR\nGetting ticker: BYND\nGetting ticker: BYSI\nGetting ticker: BGCP\nGetting ticker: BCYC\nGetting ticker: BGFV\nGetting ticker: BRPA\nGetting ticker: BRPAR\nGetting ticker: BRPAUGetting ticker: BRPAW\n\nGetting ticker: BILI\nGetting ticker: BASI\nGetting ticker: BCDA\nGetting ticker: BCDAW\nGetting ticker: BIOC\nGetting ticker: BCRX\nGetting ticker: BDSI\nGetting ticker: BFRA\nGetting ticker: BIIB\nGetting ticker: BHTG\nGetting ticker: BKYI\nGetting ticker: BIOL\nGetting ticker: BLFS\nGetting ticker: BLRX\nGetting ticker: BMRN\nGetting ticker: BMRA\nGetting ticker: BNGO\nGetting ticker: BNGOWGetting ticker: BVXV\n\nGetting ticker: BVXVW\nGetting ticker: BNTX\nGetting ticker: BPTH\nGetting ticker: BSGM\nGetting ticker: BSTC\nGetting ticker: TECH\nGetting ticker: BEAT\nGetting ticker: BIVI\nGetting ticker: BTAI\nGetting ticker: BJRI\nGetting ticker: BDTX\nGetting ticker: BLKB\nGetting ticker: BL\nGetting ticker: BKCC\nGetting ticker: TCPC\nGetting ticker: BLNK\nGetting ticker: BLNKW\nGetting ticker: BLMN\nGetting ticker: BCOR\nGetting ticker: BLBD\nGetting ticker: BHATGetting ticker: BLUE\n\nGetting ticker: BKEP\nGetting ticker: BKEPP\nGetting ticker: BPMC\nGetting ticker: ITEQ\nGetting ticker: BMCH\nGetting ticker: BSBK\nGetting ticker: WIFI\nGetting ticker: BOKF\nGetting ticker: BOKFL\nGetting ticker: BNSO\nGetting ticker: BKNG\nGetting ticker: BIMI\nGetting ticker: BRQS\nGetting ticker: BOMN\nGetting ticker: BPFHGetting ticker: EPAY\n\nGetting ticker: BOXL\nGetting ticker: BBRX\nGetting ticker: BCLI\nGetting ticker: BWAY\nGetting ticker: BCTX\nGetting ticker: BBI\nGetting ticker: BDGEGetting ticker: BBIO\n\nGetting ticker: BLIN\nGetting ticker: BWB\nGetting ticker: BRID\nGetting ticker: BCOV\nGetting ticker: BHF\nGetting ticker: BHFAL\nGetting ticker: BHFAP\nGetting ticker: AVGO\nGetting ticker: AVGOP\nGetting ticker: BVSN\nGetting ticker: BYFC\nGetting ticker: BWEN\nGetting ticker: BROG\nGetting ticker: BROGW\nGetting ticker: BPY\nGetting ticker: BPYPN\nGetting ticker: BPYPO\nGetting ticker: BPYPP\nGetting ticker: BPYU\nGetting ticker: BPYUP\nGetting ticker: BRKL\nGetting ticker: BRKS\nGetting ticker: BRP\nGetting ticker: DOOO\nGetting ticker: BRKR\nGetting ticker: BMTC\nGetting ticker: BSQR\nGetting ticker: BLDR\nGetting ticker: BFST\nGetting ticker: CFFI\nGetting ticker: CHRW\nGetting ticker: CABA\nGetting ticker: CCMP\nGetting ticker: CDNS\nGetting ticker: CDZI\nGetting ticker: CZR\nGetting ticker: CSTE\n"
    }
   ],
   "source": [
    "# Number of threads to create for retrieving data\n",
    "stocks = []\n",
    "with ThreadPoolExecutor(128) as executor:\n",
    "    results = executor.map(get_stocks, tickers)\n",
    "\n",
    "print(\"List processing complete.\")\n",
    "for r in results:\n",
    "    if not r is None:\n",
    "        stocks.append(r)\n",
    "\n",
    "df = pd.DataFrame(stocks)"
   ]
  },
  {
   "cell_type": "code",
   "execution_count": null,
   "metadata": {},
   "outputs": [],
   "source": []
  }
 ],
 "metadata": {
  "language_info": {
   "codemirror_mode": {
    "name": "ipython",
    "version": 3
   },
   "file_extension": ".py",
   "mimetype": "text/x-python",
   "name": "python",
   "nbconvert_exporter": "python",
   "pygments_lexer": "ipython3",
   "version": "3.8.2-final"
  },
  "orig_nbformat": 2,
  "kernelspec": {
   "name": "python38264bitb155f5c0dac74d8da584e4ccbce14879",
   "display_name": "Python 3.8.2 64-bit"
  }
 },
 "nbformat": 4,
 "nbformat_minor": 2
}