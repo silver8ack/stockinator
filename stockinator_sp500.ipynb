{
 "cells": [
  {
   "cell_type": "code",
   "execution_count": 1,
   "metadata": {},
   "outputs": [],
   "source": [
    "import stockinator as st\n",
    "import pandas as pd\n",
    "from IPython.display import display\n",
    "pd.set_option('display.max_rows', 1000)\n",
    "pd.set_option('display.max_columns', 500)\n",
    "pd.set_option('display.width', 150)"
   ]
  },
  {
   "cell_type": "code",
   "execution_count": null,
   "metadata": {},
   "outputs": [],
   "source": [
    "data = pd.read_pickle('stocks/all_1d.pkl')\n",
    "#periods = [233, 144, 89, 55, 34, 21, 13]\n",
    "#periods = [233, 89, 34, 13]\n",
    "periods = [89, 34, 13, 5]\n",
    "\n",
    "df_perf = st.get_period_performance(data, periods=periods, offset=5, weight=periods[-1])\n",
    "#display(df_perf.describe())\n",
    "\n",
    "print(\"Data truncated to those that are above the 38.2 percentile in all columns.\")\n",
    "#display(df_perf[df_perf.apply(lambda x: x.between(x.quantile(.382), x.quantile(1))).all(1)].sort_values('TotalWeight', ascending=False).head(25))\n",
    "\n",
    "print(\"Sorted by TotalWeight\")\n",
    "display(df_perf.sort_values('TotalWeight', ascending=False).head(25))\n",
    "\n",
    "print(\"Sorted by TotalPerformance\")\n",
    "display(df_perf.sort_values('TotalPerformance', ascending=False).head(25))"
   ]
  },
  {
   "cell_type": "code",
   "execution_count": null,
   "metadata": {},
   "outputs": [],
   "source": []
  },
  {
   "cell_type": "code",
   "execution_count": null,
   "metadata": {},
   "outputs": [],
   "source": []
  }
 ],
 "metadata": {
  "kernelspec": {
   "display_name": "Python 3.8.2 64-bit ('stockinator': venv)",
   "language": "python",
   "name": "python38264bitstockinatorvenvb229a525c12c4fb2983bb4568e6906c7"
  },
  "language_info": {
   "codemirror_mode": {
    "name": "ipython",
    "version": 3
   },
   "file_extension": ".py",
   "mimetype": "text/x-python",
   "name": "python",
   "nbconvert_exporter": "python",
   "pygments_lexer": "ipython3",
   "version": "3.8.2"
  }
 },
 "nbformat": 4,
 "nbformat_minor": 4
}
